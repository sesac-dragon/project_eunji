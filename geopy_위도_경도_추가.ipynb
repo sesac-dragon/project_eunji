{
 "cells": [
  {
   "cell_type": "code",
   "execution_count": 105,
   "id": "94276e38",
   "metadata": {},
   "outputs": [],
   "source": [
    "import json\n",
    "import time\n",
    "from geopy.geocoders import Nominatim"
   ]
  },
  {
   "cell_type": "code",
   "execution_count": null,
   "id": "34abf379",
   "metadata": {},
   "outputs": [],
   "source": [
    "with open('불러올 파일명.json', 'r', encoding='utf-8') as f:\n",
    "    data = json.load(f)"
   ]
  },
  {
   "cell_type": "code",
   "execution_count": 107,
   "id": "710b39bf",
   "metadata": {},
   "outputs": [],
   "source": [
    "unique_location_name = set()"
   ]
  },
  {
   "cell_type": "code",
   "execution_count": null,
   "id": "abf20cbd",
   "metadata": {},
   "outputs": [
    {
     "name": "stdout",
     "output_type": "stream",
     "text": [
      "유니크한 장소: 876개\n"
     ]
    }
   ],
   "source": [
    "for tour in data:\n",
    "    for location in tour['Tour_location_details']:\n",
    "        unique_location_name.add(location['location_name'])\n",
    "print(f'유니크한 장소: {len(unique_location_name)}개')"
   ]
  },
  {
   "cell_type": "code",
   "execution_count": 109,
   "id": "03f179d4",
   "metadata": {},
   "outputs": [],
   "source": [
    "unique_locations = list(unique_location_name)"
   ]
  },
  {
   "cell_type": "code",
   "execution_count": null,
   "id": "84ca7706",
   "metadata": {},
   "outputs": [],
   "source": [
    "target = unique_locations[800:] # 슬라이싱"
   ]
  },
  {
   "cell_type": "code",
   "execution_count": 111,
   "id": "2a765e08",
   "metadata": {},
   "outputs": [],
   "source": [
    "geolocator = Nominatim(user_agent='safari_bookings_geo', timeout=10)"
   ]
  },
  {
   "cell_type": "code",
   "execution_count": null,
   "id": "d170e66e",
   "metadata": {},
   "outputs": [],
   "source": [
    "geo_lat_lon = {}\n",
    "failed = []\n",
    "\n",
    "for name in target:\n",
    "    geo_add = geolocator.geocode(name)\n",
    "    if geo_add != None:\n",
    "        geo_lat_lon[name] = {\n",
    "            'lat': geo_add.latitude,\n",
    "            'lon': geo_add.longitude\n",
    "        }\n",
    "    else:\n",
    "        geo_lat_lon[name] = {'lat': '', 'lon': ''}\n",
    "        failed.append(name)\n",
    "    time.sleep(1.5)\n",
    "print(f'추가할 개수: {len(target)}')\n",
    "print(f'성공: {len(geo_lat_lon) - len(failed)}개')\n",
    "print(f'실패: {len(failed)}개')"
   ]
  },
  {
   "cell_type": "code",
   "execution_count": 113,
   "id": "26a3853e",
   "metadata": {},
   "outputs": [],
   "source": [
    "for tour in data:\n",
    "    for location in tour['Tour_location_details']:\n",
    "        name = location['location_name']\n",
    "        if name in geo_lat_lon:\n",
    "            location['lat'] = geo_lat_lon[name]['lat']\n",
    "            location['lon'] = geo_lat_lon[name]['lon']"
   ]
  },
  {
   "cell_type": "code",
   "execution_count": null,
   "id": "fb8950d0",
   "metadata": {},
   "outputs": [
    {
     "name": "stdout",
     "output_type": "stream",
     "text": [
      "실패한 32개 장소를 저장했습니다.\n"
     ]
    }
   ],
   "source": [
    "with open('실패 장소 저장할 이름.json', 'w', encoding='utf-8') as f:\n",
    "    json.dump(failed, f, ensure_ascii=False, indent=2)\n",
    "# 실패 장소 저장"
   ]
  },
  {
   "cell_type": "code",
   "execution_count": null,
   "id": "bc852df7",
   "metadata": {},
   "outputs": [],
   "source": [
    "with open('성공 장소 저장할 이름.json', 'w', encoding='utf-8') as f:\n",
    "    json.dump(data, f, ensure_ascii=False, indent=2)"
   ]
  },
  {
   "cell_type": "code",
   "execution_count": null,
   "id": "bf728a93",
   "metadata": {},
   "outputs": [],
   "source": [
    "# 한번 하고 저장하고 방금 저장한 이름으로 다시 불러와서 계속 슬라이싱"
   ]
  }
 ],
 "metadata": {
  "kernelspec": {
   "display_name": "mini",
   "language": "python",
   "name": "python3"
  },
  "language_info": {
   "codemirror_mode": {
    "name": "ipython",
    "version": 3
   },
   "file_extension": ".py",
   "mimetype": "text/x-python",
   "name": "python",
   "nbconvert_exporter": "python",
   "pygments_lexer": "ipython3",
   "version": "3.11.13"
  }
 },
 "nbformat": 4,
 "nbformat_minor": 5
}
