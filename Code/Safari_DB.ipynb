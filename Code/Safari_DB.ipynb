{
 "cells": [
  {
   "cell_type": "code",
   "execution_count": 5,
   "id": "b3fda086",
   "metadata": {},
   "outputs": [],
   "source": [
    "import pymysql"
   ]
  },
  {
   "cell_type": "code",
   "execution_count": 6,
   "id": "31c52b1d",
   "metadata": {},
   "outputs": [],
   "source": [
    "envs = dict([l.strip().split('=') for l in open('.env', 'r').readlines()])"
   ]
  },
  {
   "cell_type": "code",
   "execution_count": 7,
   "id": "dc858887",
   "metadata": {},
   "outputs": [],
   "source": [
    "db_config = {}\n",
    "for k, v in envs.items():\n",
    "    if 'DB' not in k:\n",
    "        continue\n",
    "    k = k.split('_')[1].lower()\n",
    "    \n",
    "    if k == 'port':\n",
    "        v = int(v)\n",
    "\n",
    "    db_config[k]=v\n",
    "conn = pymysql.connect(**db_config)"
   ]
  },
  {
   "cell_type": "code",
   "execution_count": null,
   "id": "c498a5a8",
   "metadata": {},
   "outputs": [],
   "source": [
    "# tours 테이블 생성\n",
    "with conn.cursor() as cur:\n",
    "    cur.execute(\"\"\"\n",
    "    CREATE TABLE tours (\n",
    "    tour_id int not null,\n",
    "    title varchar(1024),\n",
    "    country varchar(255),\n",
    "    tour_days int,\n",
    "    price int unsigned,\n",
    "    tour_url varchar(1024), \n",
    "    start_location varchar(255),\n",
    "    end_location varchar(255),\n",
    "    style varchar(255),\n",
    "    type varchar(255),\n",
    "    operator varchar(255),\n",
    "    primary key(tour_id)\n",
    "    );       \n",
    "    \"\"\")\n",
    "conn.commit()"
   ]
  },
  {
   "cell_type": "code",
   "execution_count": null,
   "id": "32c43fe8",
   "metadata": {},
   "outputs": [],
   "source": [
    "# locations 테이블 생성\n",
    "with conn.cursor() as cur:\n",
    "    cur.execute(\"\"\"\n",
    "    CREATE TABLE locations (\n",
    "    location_id int not null auto_increment,\n",
    "    tour_id int not null,\n",
    "    location_name varchar(1024),\n",
    "    stay_days int,\n",
    "    location_url varchar(1024),\n",
    "    latitude double,\n",
    "    longitude double,               \n",
    "    primary key(location_id),\n",
    "    foreign key (tour_id) references tours(tour_id)\n",
    "    );       \n",
    "    \"\"\")\n",
    "conn.commit()"
   ]
  },
  {
   "cell_type": "code",
   "execution_count": null,
   "id": "7685c515",
   "metadata": {},
   "outputs": [],
   "source": [
    "# location_big_five 테이블 생성\n",
    "with conn.cursor() as cur:\n",
    "    cur.execute(\"\"\"\n",
    "    CREATE TABLE location_big_five (\n",
    "    id int not null auto_increment,\n",
    "    location_id int not null,\n",
    "    big_five_animal varchar(1024),\n",
    "    primary key(id),\n",
    "    foreign key (location_id) references locations(location_id)\n",
    "    );       \n",
    "    \"\"\")\n",
    "conn.commit()"
   ]
  },
  {
   "cell_type": "code",
   "execution_count": null,
   "id": "7556250c",
   "metadata": {},
   "outputs": [],
   "source": [
    "# tour_activities 테이블 생성\n",
    "with conn.cursor() as cur:\n",
    "    cur.execute(\"\"\"\n",
    "    CREATE TABLE tour_activities (\n",
    "    id int not null auto_increment,\n",
    "    tour_id int not null,\n",
    "    activity varchar(1024),\n",
    "    primary key(id),\n",
    "    foreign key (tour_id) references tours(tour_id)\n",
    "    );       \n",
    "    \"\"\")\n",
    "conn.commit()"
   ]
  },
  {
   "cell_type": "code",
   "execution_count": 8,
   "id": "1fe2d318",
   "metadata": {},
   "outputs": [],
   "source": [
    "import json"
   ]
  },
  {
   "cell_type": "code",
   "execution_count": 9,
   "id": "ed14a2c9",
   "metadata": {},
   "outputs": [],
   "source": [
    "with open('Data/Safari_tour_add_lat_and_lon.json', 'r', encoding='utf-8') as f:\n",
    "    data = json.load(f)"
   ]
  },
  {
   "cell_type": "code",
   "execution_count": 20,
   "id": "6f733494",
   "metadata": {},
   "outputs": [
    {
     "data": {
      "text/plain": [
       "13429"
      ]
     },
     "execution_count": 20,
     "metadata": {},
     "output_type": "execute_result"
    }
   ],
   "source": [
    "len(data)"
   ]
  },
  {
   "cell_type": "code",
   "execution_count": 7,
   "id": "292ddef7",
   "metadata": {},
   "outputs": [],
   "source": [
    "tours_data = []\n",
    "for tour in data:\n",
    "    tours_data.append((\n",
    "        int(tour['Tour_ID']),\n",
    "        tour['Tour_title'],\n",
    "        tour['Tour_country'],\n",
    "        int(tour['Tour_days']),\n",
    "        int(tour['Tour_price']),\n",
    "        tour['Tour_URL'],\n",
    "        tour['Tour_start'],\n",
    "        tour['Tour_End'],\n",
    "        tour['Tour_style'],\n",
    "        tour['Tour_type'],\n",
    "        tour['Tour_operator']\n",
    "    ))"
   ]
  },
  {
   "cell_type": "code",
   "execution_count": 8,
   "id": "767a26c7",
   "metadata": {},
   "outputs": [],
   "source": [
    "with conn.cursor() as cur:\n",
    "    cur.executemany(\"\"\"\n",
    "    insert into tours (tour_id, title, country, tour_days, price, tour_url, start_location, end_location, style, type, operator)\n",
    "    values (%s, %s, %s, %s, %s, %s, %s, %s, %s, %s, %s)\"\"\", tours_data)\n",
    "conn.commit()"
   ]
  },
  {
   "cell_type": "code",
   "execution_count": 27,
   "id": "067460c4",
   "metadata": {},
   "outputs": [],
   "source": [
    "locations_data = []\n",
    "for tour in data:\n",
    "    tour_id = int(tour['Tour_ID'])\n",
    "    \n",
    "    for loca in tour['Tour_location_details']:\n",
    "        if 'location_name' in loca:\n",
    "            location_name = loca['location_name']\n",
    "        else:\n",
    "            location_name = ''\n",
    "        if 'days' in loca:\n",
    "            stay_days = loca['days']\n",
    "        else:\n",
    "            stay_days = None\n",
    "        if 'link' in loca:\n",
    "            location_url = loca['link']\n",
    "        else:\n",
    "            location_url = ''\n",
    "        if 'lat' in loca and loca['lat'] != '':\n",
    "            latitude = loca['lat']\n",
    "        else:\n",
    "            latitude = None\n",
    "        if 'lon' in loca and loca['lon'] != '':\n",
    "            longitude = loca['lon']\n",
    "        else:\n",
    "            longitude = None\n",
    "\n",
    "        locations_data.append((\n",
    "        tour_id,\n",
    "        location_name,\n",
    "        stay_days,\n",
    "        location_url,\n",
    "        latitude,\n",
    "        longitude\n",
    "        ))\n"
   ]
  },
  {
   "cell_type": "code",
   "execution_count": 28,
   "id": "3378f43b",
   "metadata": {},
   "outputs": [],
   "source": [
    "with conn.cursor() as cur:\n",
    "    cur.executemany(\"\"\"\n",
    "    insert into locations (tour_id, location_name, stay_days, location_url, latitude, longitude)\n",
    "    values (%s, %s, %s, %s, %s, %s)\n",
    "    \"\"\", locations_data)\n",
    "conn.commit()"
   ]
  },
  {
   "cell_type": "code",
   "execution_count": 1,
   "id": "a53b25f0",
   "metadata": {},
   "outputs": [],
   "source": [
    "# location_big_five 데이터 insert"
   ]
  },
  {
   "cell_type": "code",
   "execution_count": 19,
   "id": "6a2f6e99",
   "metadata": {},
   "outputs": [],
   "source": [
    "with open('Data/Safari_tour_add_lat_and_lon.json', 'r', encoding='utf-8') as f:\n",
    "    data = json.load(f)"
   ]
  },
  {
   "cell_type": "code",
   "execution_count": 20,
   "id": "af1c45c9",
   "metadata": {},
   "outputs": [],
   "source": [
    "location_big_five = []\n",
    "with conn.cursor(pymysql.cursors.DictCursor) as cur:\n",
    "    result = cur.execute('select location_id, tour_id, location_name from locations')\n",
    "    locations_data = cur.fetchall()\n",
    "\n",
    "for location_table in locations_data:\n",
    "    location_id = location_table['location_id']\n",
    "    tour_id = location_table['tour_id']\n",
    "    location_name = location_table['location_name']\n",
    "\n",
    "    for tour in data:\n",
    "        if int(tour['Tour_ID']) == tour_id:\n",
    "            for loca in tour['Tour_location_details']:\n",
    "                if 'location_name' in loca and loca['location_name'] == location_name:\n",
    "                    if 'animals' in loca and loca['animals']:\n",
    "                        for animals in loca['animals']:\n",
    "                            location_big_five.append((location_id, animals))\n",
    "            break"
   ]
  },
  {
   "cell_type": "code",
   "execution_count": 22,
   "id": "fb6dccc0",
   "metadata": {},
   "outputs": [],
   "source": [
    "with conn.cursor() as cur:\n",
    "    cur.executemany(\"\"\"\n",
    "    insert into location_big_five (location_id, big_five_animal)\n",
    "    values (%s, %s)\n",
    "    \"\"\", location_big_five)\n",
    "conn.commit()"
   ]
  },
  {
   "cell_type": "code",
   "execution_count": 2,
   "id": "29e8d24f",
   "metadata": {},
   "outputs": [],
   "source": [
    "# tour_activities 데이터 insert"
   ]
  },
  {
   "cell_type": "code",
   "execution_count": 23,
   "id": "38c7eb29",
   "metadata": {},
   "outputs": [],
   "source": [
    "tour_activities = []\n",
    "for tour in data:\n",
    "    tour_id = int(tour['Tour_ID'])\n",
    "    if 'Tour_activity' in tour and tour['Tour_activity']:\n",
    "        for activity in tour['Tour_activity']:\n",
    "            tour_activities.append((tour_id, activity))"
   ]
  },
  {
   "cell_type": "code",
   "execution_count": 24,
   "id": "dad7f6ad",
   "metadata": {},
   "outputs": [],
   "source": [
    "with conn.cursor() as cur:\n",
    "    cur.executemany(\"\"\"\n",
    "    insert into tour_activities (tour_id, activity)\n",
    "    values (%s, %s)                    \n",
    "    \"\"\", tour_activities)\n",
    "conn.commit()"
   ]
  },
  {
   "cell_type": "code",
   "execution_count": 17,
   "id": "b62bb189",
   "metadata": {},
   "outputs": [],
   "source": [
    "conn.close()"
   ]
  }
 ],
 "metadata": {
  "kernelspec": {
   "display_name": "mini",
   "language": "python",
   "name": "python3"
  },
  "language_info": {
   "codemirror_mode": {
    "name": "ipython",
    "version": 3
   },
   "file_extension": ".py",
   "mimetype": "text/x-python",
   "name": "python",
   "nbconvert_exporter": "python",
   "pygments_lexer": "ipython3",
   "version": "3.11.13"
  }
 },
 "nbformat": 4,
 "nbformat_minor": 5
}
