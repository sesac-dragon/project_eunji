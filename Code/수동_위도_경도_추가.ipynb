{
 "cells": [
  {
   "cell_type": "code",
   "execution_count": 7,
   "id": "157f43d0",
   "metadata": {},
   "outputs": [],
   "source": [
    "import json"
   ]
  },
  {
   "cell_type": "code",
   "execution_count": null,
   "id": "cca6435f",
   "metadata": {},
   "outputs": [],
   "source": [
    "with open('불러올 파일명.json', 'r', encoding='utf-8') as f:\n",
    "    data = json.load(f)"
   ]
  },
  {
   "cell_type": "code",
   "execution_count": null,
   "id": "c7da2b69",
   "metadata": {},
   "outputs": [],
   "source": [
    "# 수동 좌표 추가 \"location 이름\": {\"lat\": 위도값 숫자, \"lon\": 경도값 숫자}\n",
    "lat_lon_add = {\n",
    "    \"Olifants West NR (Greater Kruger)\": {\"lat\": -24.2094819, \"lon\": 30.9074603},\n",
    "    \"\": {\"lat\": , \"lon\": },\n",
    "    \"\": {\"lat\": , \"lon\": },\n",
    "    \"\": {\"lat\": , \"lon\": },\n",
    "    \"\": {\"lat\": , \"lon\": },\n",
    "    \"\": {\"lat\": , \"lon\": },\n",
    "}"
   ]
  },
  {
   "cell_type": "code",
   "execution_count": null,
   "id": "8c148784",
   "metadata": {},
   "outputs": [],
   "source": [
    "# 좌표 추가\n",
    "update_count = 0\n",
    "for tour in data:\n",
    "    for location in tour['Tour_location_details']:\n",
    "        name = location['location_name']\n",
    "        if name in lat_lon_add:\n",
    "            location['lat'] = lat_lon_add[name]['lat']\n",
    "            location['lon'] = lat_lon_add[name]['lon']\n",
    "            update_count += 1\n",
    "            print(f\"좌표 추가: {name}, lat: {location['lat']}, lon: {location['lon']}\")\n",
    "\n",
    "print(f'총 {update_count}개 좌표가 추가')"
   ]
  },
  {
   "cell_type": "code",
   "execution_count": null,
   "id": "2e90152f",
   "metadata": {},
   "outputs": [],
   "source": [
    "with open('저장할 파일명.json', 'w', encoding='utf-8') as f:\n",
    "    json.dump(data, f, ensure_ascii=False, indent=2)"
   ]
  }
 ],
 "metadata": {
  "kernelspec": {
   "display_name": "mini",
   "language": "python",
   "name": "python3"
  },
  "language_info": {
   "codemirror_mode": {
    "name": "ipython",
    "version": 3
   },
   "file_extension": ".py",
   "mimetype": "text/x-python",
   "name": "python",
   "nbconvert_exporter": "python",
   "pygments_lexer": "ipython3",
   "version": "3.11.13"
  }
 },
 "nbformat": 4,
 "nbformat_minor": 5
}
